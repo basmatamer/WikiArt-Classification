{
 "cells": [
  {
   "cell_type": "code",
   "execution_count": 23,
   "metadata": {},
   "outputs": [],
   "source": [
    "import numpy as np\n",
    "import keras \n",
    "import time\n",
    "import math\n",
    "\n",
    "from keras.models import Sequential\n",
    "from keras.layers import Dense\n",
    "from keras.layers import LSTM\n",
    "from sklearn.preprocessing import MinMaxScaler\n",
    "from sklearn.metrics import mean_squared_error\n",
    "\n",
    "\n",
    "\n",
    "from keras.layers import Dropout\n",
    "from keras.layers import Flatten\n",
    "from keras.constraints import maxnorm\n",
    "from keras.optimizers import SGD\n",
    "from keras.optimizers import Nadam\n",
    "\n",
    "from keras.layers.normalization import BatchNormalization\n",
    "from keras.callbacks import ModelCheckpoint\n",
    "from keras.layers import Activation\n",
    "from keras.utils import np_utils\n",
    "import matplotlib.pyplot as plt\n",
    "\n",
    "\n",
    "from keras.models import load_model"
   ]
  },
  {
   "cell_type": "code",
   "execution_count": 2,
   "metadata": {},
   "outputs": [],
   "source": [
    "# read the data set \n",
    "f = open('StockExchangeDataset.txt', 'r')\n",
    "dataset = f.readlines()\n",
    "f.close()"
   ]
  },
  {
   "cell_type": "code",
   "execution_count": 3,
   "metadata": {
    "scrolled": false
   },
   "outputs": [
    {
     "name": "stdout",
     "output_type": "stream",
     "text": [
      "2522\n",
      "1385.59\n",
      "\n",
      "2663.42\n"
     ]
    }
   ],
   "source": [
    "print (len(dataset))\n",
    "print (dataset[0])\n",
    "print (dataset[len(dataset) -1])"
   ]
  },
  {
   "cell_type": "code",
   "execution_count": 4,
   "metadata": {},
   "outputs": [
    {
     "name": "stderr",
     "output_type": "stream",
     "text": [
      "C:\\Users\\Lenovo\\Anaconda2\\envs\\tensorflow\\lib\\site-packages\\sklearn\\utils\\validation.py:475: DataConversionWarning: Data with input dtype <U8 was converted to float64 by MinMaxScaler.\n",
      "  warnings.warn(msg, DataConversionWarning)\n"
     ]
    }
   ],
   "source": [
    "dataset = np.array(dataset).reshape(-1, 1)\n",
    "scaler = MinMaxScaler()\n",
    "dataset = scaler.fit_transform(dataset)"
   ]
  },
  {
   "cell_type": "code",
   "execution_count": 5,
   "metadata": {},
   "outputs": [
    {
     "name": "stdout",
     "output_type": "stream",
     "text": [
      "2017 505\n"
     ]
    }
   ],
   "source": [
    "# divide the data into testing and training. Here it takes 67% for training and the remaining 33% for testing \n",
    "\n",
    "train_size = int(len(dataset) * 0.8)\n",
    "test_size = len(dataset) - train_size\n",
    "train, test = dataset[0:train_size,:], dataset[train_size:len(dataset),:]\n",
    "print(len(train), len(test))\n"
   ]
  },
  {
   "cell_type": "code",
   "execution_count": 6,
   "metadata": {},
   "outputs": [],
   "source": [
    "#train = dataset[:2270]\n",
    "#test = dataset[2270:]   # take 10% for testing "
   ]
  },
  {
   "cell_type": "code",
   "execution_count": 7,
   "metadata": {},
   "outputs": [],
   "source": [
    "def create_dataset(dataset, look_back = 5):   # the look_back is the time step or in other words is the # of previous time steps to use as input variables to predict the output correspondingly\n",
    "    X, Y = [], []\n",
    "    for i in range(len(dataset) - look_back-1):\n",
    "        a = dataset[i:(i+look_back), 0]\n",
    "        X.append(a)\n",
    "        Y.append(dataset[i+look_back , 0])\n",
    "    return np.array(X), np.array(Y)\n",
    "    "
   ]
  },
  {
   "cell_type": "code",
   "execution_count": 8,
   "metadata": {},
   "outputs": [],
   "source": [
    "\n",
    "np.random.seed(7)"
   ]
  },
  {
   "cell_type": "code",
   "execution_count": 9,
   "metadata": {},
   "outputs": [
    {
     "name": "stdout",
     "output_type": "stream",
     "text": [
      "[[0.32283708 0.33365053 0.33572671 0.33280822 0.33771183]\n",
      " [0.33365053 0.33572671 0.33280822 0.33771183 0.3260151 ]\n",
      " [0.33572671 0.33280822 0.33771183 0.3260151  0.3283417 ]\n",
      " ...\n",
      " [0.64423086 0.64427639 0.64255079 0.64433102 0.64590182]\n",
      " [0.64427639 0.64255079 0.64433102 0.64590182 0.63709626]\n",
      " [0.64255079 0.64433102 0.64590182 0.63709626 0.63231103]]\n"
     ]
    }
   ],
   "source": [
    "look_back = 5\n",
    "trainX, trainY = create_dataset(train, look_back)\n",
    "testX, testY = create_dataset(test, look_back)\n",
    "\n",
    "print(trainX)"
   ]
  },
  {
   "cell_type": "code",
   "execution_count": 10,
   "metadata": {},
   "outputs": [],
   "source": [
    "# LSTM requires the train and test to be in a specific format which is [samples, time steps, features]\n",
    "# Therefore we will reshape \n",
    "trainX = np.reshape(trainX, (trainX.shape[0], 1, trainX.shape[1]))\n",
    "testX = np.reshape(testX, (testX.shape[0], 1, testX.shape[1]))\n"
   ]
  },
  {
   "cell_type": "code",
   "execution_count": 11,
   "metadata": {},
   "outputs": [],
   "source": [
    "model = Sequential()\n",
    "model.add(LSTM(32, input_shape=(1, look_back)))\n",
    "model.add(LSTM(16, input_shape=(1, look_back)))\n",
    "\n",
    "model.add(Dense(1))\n",
    "model.compile(loss='mean_squared_error', optimizer='adam')\n"
   ]
  },
  {
   "cell_type": "code",
   "execution_count": 12,
   "metadata": {},
   "outputs": [
    {
     "name": "stdout",
     "output_type": "stream",
     "text": [
      "Epoch 1/100\n",
      " - 49s - loss: 0.0050\n",
      "Epoch 2/100\n",
      " - 21s - loss: 1.6430e-04\n",
      "Epoch 3/100\n",
      " - 17s - loss: 1.5311e-04\n",
      "Epoch 4/100\n",
      " - 13s - loss: 1.4517e-04\n",
      "Epoch 5/100\n",
      " - 13s - loss: 1.3135e-04\n",
      "Epoch 6/100\n",
      " - 14s - loss: 1.2241e-04\n",
      "Epoch 7/100\n",
      " - 17s - loss: 1.1883e-04\n",
      "Epoch 8/100\n",
      " - 23s - loss: 1.1144e-04\n",
      "Epoch 9/100\n",
      " - 18s - loss: 1.0391e-04\n",
      "Epoch 10/100\n",
      " - 18s - loss: 1.0472e-04\n",
      "Epoch 11/100\n",
      " - 18s - loss: 1.0250e-04\n",
      "Epoch 12/100\n",
      " - 18s - loss: 1.0165e-04\n",
      "Epoch 13/100\n",
      " - 18s - loss: 9.9872e-05\n",
      "Epoch 14/100\n",
      " - 18s - loss: 9.6322e-05\n",
      "Epoch 15/100\n",
      " - 14s - loss: 9.8375e-05\n",
      "Epoch 16/100\n",
      " - 12s - loss: 9.8147e-05\n",
      "Epoch 17/100\n",
      " - 12s - loss: 9.4462e-05\n",
      "Epoch 18/100\n",
      " - 12s - loss: 8.7300e-05\n",
      "Epoch 19/100\n",
      " - 22s - loss: 9.4025e-05\n",
      "Epoch 20/100\n",
      " - 16s - loss: 9.1544e-05\n",
      "Epoch 21/100\n",
      " - 12s - loss: 8.8948e-05\n",
      "Epoch 22/100\n",
      " - 12s - loss: 8.8002e-05\n",
      "Epoch 23/100\n",
      " - 12s - loss: 8.5275e-05\n",
      "Epoch 24/100\n",
      " - 12s - loss: 8.8937e-05\n",
      "Epoch 25/100\n",
      " - 12s - loss: 8.5428e-05\n",
      "Epoch 26/100\n",
      " - 14s - loss: 8.4792e-05\n",
      "Epoch 27/100\n",
      " - 12s - loss: 8.4732e-05\n",
      "Epoch 28/100\n",
      " - 11s - loss: 8.6215e-05\n",
      "Epoch 29/100\n",
      " - 12s - loss: 8.8140e-05\n",
      "Epoch 30/100\n",
      " - 11s - loss: 8.6084e-05\n",
      "Epoch 31/100\n",
      " - 11s - loss: 8.5514e-05\n",
      "Epoch 32/100\n",
      " - 14s - loss: 8.6586e-05\n",
      "Epoch 33/100\n",
      " - 19s - loss: 8.4126e-05\n",
      "Epoch 34/100\n",
      " - 22s - loss: 8.3897e-05\n",
      "Epoch 35/100\n",
      " - 16s - loss: 8.1209e-05\n",
      "Epoch 36/100\n",
      " - 15s - loss: 8.2374e-05\n",
      "Epoch 37/100\n",
      " - 13s - loss: 8.4416e-05\n",
      "Epoch 38/100\n",
      " - 12s - loss: 7.9709e-05\n",
      "Epoch 39/100\n",
      " - 13s - loss: 8.1509e-05\n",
      "Epoch 40/100\n",
      " - 12s - loss: 8.1732e-05\n",
      "Epoch 41/100\n",
      " - 12s - loss: 7.9551e-05\n",
      "Epoch 42/100\n",
      " - 12s - loss: 8.0463e-05\n",
      "Epoch 43/100\n",
      " - 12s - loss: 8.4737e-05\n",
      "Epoch 44/100\n",
      " - 12s - loss: 8.1078e-05\n",
      "Epoch 45/100\n",
      " - 12s - loss: 8.1346e-05\n",
      "Epoch 46/100\n",
      " - 12s - loss: 7.8660e-05\n",
      "Epoch 47/100\n",
      " - 12s - loss: 8.1396e-05\n",
      "Epoch 48/100\n",
      " - 12s - loss: 8.1194e-05\n",
      "Epoch 49/100\n",
      " - 16s - loss: 7.6746e-05\n",
      "Epoch 50/100\n",
      " - 16s - loss: 7.8467e-05\n",
      "Epoch 51/100\n",
      " - 25s - loss: 8.2967e-05\n",
      "Epoch 52/100\n",
      " - 15s - loss: 8.1298e-05\n",
      "Epoch 53/100\n",
      " - 15s - loss: 7.9976e-05\n",
      "Epoch 54/100\n",
      " - 16s - loss: 8.1920e-05\n",
      "Epoch 55/100\n",
      " - 33s - loss: 7.8939e-05\n",
      "Epoch 56/100\n",
      " - 36s - loss: 8.0815e-05\n",
      "Epoch 57/100\n",
      " - 25s - loss: 8.5113e-05\n",
      "Epoch 58/100\n",
      " - 17s - loss: 7.6266e-05\n",
      "Epoch 59/100\n",
      " - 15s - loss: 7.4357e-05\n",
      "Epoch 60/100\n",
      " - 15s - loss: 7.5996e-05\n",
      "Epoch 61/100\n",
      " - 15s - loss: 7.7801e-05\n",
      "Epoch 62/100\n",
      " - 19s - loss: 7.8075e-05\n",
      "Epoch 63/100\n",
      " - 19s - loss: 7.7840e-05\n",
      "Epoch 64/100\n",
      " - 20s - loss: 7.7222e-05\n",
      "Epoch 65/100\n",
      " - 21s - loss: 7.6259e-05\n",
      "Epoch 66/100\n",
      " - 20s - loss: 7.7570e-05\n",
      "Epoch 67/100\n",
      " - 13s - loss: 7.5300e-05\n",
      "Epoch 68/100\n",
      " - 13s - loss: 7.8812e-05\n",
      "Epoch 69/100\n",
      " - 13s - loss: 7.6989e-05\n",
      "Epoch 70/100\n",
      " - 13s - loss: 7.9200e-05\n",
      "Epoch 71/100\n",
      " - 13s - loss: 7.6284e-05\n",
      "Epoch 72/100\n",
      " - 13s - loss: 7.6588e-05\n",
      "Epoch 73/100\n",
      " - 14s - loss: 7.8734e-05\n",
      "Epoch 74/100\n",
      " - 13s - loss: 7.8693e-05\n",
      "Epoch 75/100\n",
      " - 14s - loss: 7.9399e-05\n",
      "Epoch 76/100\n",
      " - 13s - loss: 7.5074e-05\n",
      "Epoch 77/100\n",
      " - 13s - loss: 7.7963e-05\n",
      "Epoch 78/100\n",
      " - 14s - loss: 7.5173e-05\n",
      "Epoch 79/100\n",
      " - 15s - loss: 7.5548e-05\n",
      "Epoch 80/100\n",
      " - 15s - loss: 7.8700e-05\n",
      "Epoch 81/100\n",
      " - 17s - loss: 7.6172e-05\n",
      "Epoch 82/100\n",
      " - 18s - loss: 7.5653e-05\n",
      "Epoch 83/100\n",
      " - 15s - loss: 7.8129e-05\n",
      "Epoch 84/100\n",
      " - 16s - loss: 7.6199e-05\n",
      "Epoch 85/100\n",
      " - 29s - loss: 7.3029e-05\n",
      "Epoch 86/100\n",
      " - 21s - loss: 7.5386e-05\n",
      "Epoch 87/100\n",
      " - 21s - loss: 7.6811e-05\n",
      "Epoch 88/100\n",
      " - 21s - loss: 7.5100e-05\n",
      "Epoch 89/100\n",
      " - 15s - loss: 7.6859e-05\n",
      "Epoch 90/100\n",
      " - 14s - loss: 7.6512e-05\n",
      "Epoch 91/100\n",
      " - 14s - loss: 7.5074e-05\n",
      "Epoch 92/100\n",
      " - 15s - loss: 7.6010e-05\n",
      "Epoch 93/100\n",
      " - 31s - loss: 7.4566e-05\n",
      "Epoch 94/100\n",
      " - 24s - loss: 7.5031e-05\n",
      "Epoch 95/100\n",
      " - 15s - loss: 7.2570e-05\n",
      "Epoch 96/100\n",
      " - 15s - loss: 7.4961e-05\n",
      "Epoch 97/100\n",
      " - 15s - loss: 7.3314e-05\n",
      "Epoch 98/100\n",
      " - 24s - loss: 7.1555e-05\n",
      "Epoch 99/100\n",
      " - 19s - loss: 7.4928e-05\n",
      "Epoch 100/100\n",
      " - 21s - loss: 7.5802e-05\n"
     ]
    },
    {
     "data": {
      "text/plain": [
       "<keras.callbacks.History at 0x27c2cfd14a8>"
      ]
     },
     "execution_count": 12,
     "metadata": {},
     "output_type": "execute_result"
    }
   ],
   "source": [
    "model.fit(trainX, trainY, epochs=100, batch_size=1, verbose=2)"
   ]
  },
  {
   "cell_type": "code",
   "execution_count": 13,
   "metadata": {},
   "outputs": [],
   "source": [
    "model.save('keras_70.6%_100epochs_16neurons_1LSTMlayer_5lookback.h5')"
   ]
  },
  {
   "cell_type": "code",
   "execution_count": 26,
   "metadata": {},
   "outputs": [
    {
     "data": {
      "text/plain": [
       "<keras.models.Sequential at 0x27c3b6dedd8>"
      ]
     },
     "execution_count": 26,
     "metadata": {},
     "output_type": "execute_result"
    }
   ],
   "source": [
    "keras.models.load_model('keras_70.6%_100epochs_16neurons_1LSTMlayer_5lookback.h5')"
   ]
  },
  {
   "cell_type": "code",
   "execution_count": 14,
   "metadata": {},
   "outputs": [
    {
     "name": "stdout",
     "output_type": "stream",
     "text": [
      "(2011,)\n"
     ]
    }
   ],
   "source": [
    "print (trainY.shape)"
   ]
  },
  {
   "cell_type": "code",
   "execution_count": 28,
   "metadata": {
    "scrolled": true
   },
   "outputs": [
    {
     "ename": "ValueError",
     "evalue": "Found array with dim 3. Estimator expected <= 2.",
     "output_type": "error",
     "traceback": [
      "\u001b[1;31m---------------------------------------------------------------------------\u001b[0m",
      "\u001b[1;31mValueError\u001b[0m                                Traceback (most recent call last)",
      "\u001b[1;32m<ipython-input-28-bbabf0722cd2>\u001b[0m in \u001b[0;36m<module>\u001b[1;34m()\u001b[0m\n\u001b[0;32m      5\u001b[0m \u001b[1;33m\u001b[0m\u001b[0m\n\u001b[0;32m      6\u001b[0m \u001b[0mtrainPredict\u001b[0m \u001b[1;33m=\u001b[0m \u001b[0mscaler\u001b[0m\u001b[1;33m.\u001b[0m\u001b[0minverse_transform\u001b[0m\u001b[1;33m(\u001b[0m\u001b[0mtrainPredict\u001b[0m\u001b[1;33m)\u001b[0m\u001b[1;33m\u001b[0m\u001b[0m\n\u001b[1;32m----> 7\u001b[1;33m \u001b[0mtrainY\u001b[0m \u001b[1;33m=\u001b[0m \u001b[0mscaler\u001b[0m\u001b[1;33m.\u001b[0m\u001b[0minverse_transform\u001b[0m\u001b[1;33m(\u001b[0m\u001b[1;33m[\u001b[0m\u001b[0mtrainY\u001b[0m\u001b[1;33m]\u001b[0m\u001b[1;33m)\u001b[0m\u001b[1;33m\u001b[0m\u001b[0m\n\u001b[0m\u001b[0;32m      8\u001b[0m \u001b[0mtestPredict\u001b[0m \u001b[1;33m=\u001b[0m \u001b[0mscaler\u001b[0m\u001b[1;33m.\u001b[0m\u001b[0minverse_transform\u001b[0m\u001b[1;33m(\u001b[0m\u001b[0mtestPredict\u001b[0m\u001b[1;33m)\u001b[0m\u001b[1;33m\u001b[0m\u001b[0m\n\u001b[0;32m      9\u001b[0m \u001b[0mtestY\u001b[0m \u001b[1;33m=\u001b[0m \u001b[0mscaler\u001b[0m\u001b[1;33m.\u001b[0m\u001b[0minverse_transform\u001b[0m\u001b[1;33m(\u001b[0m\u001b[1;33m[\u001b[0m\u001b[0mtestY\u001b[0m\u001b[1;33m]\u001b[0m\u001b[1;33m)\u001b[0m\u001b[1;33m\u001b[0m\u001b[0m\n",
      "\u001b[1;32m~\\Anaconda2\\envs\\tensorflow\\lib\\site-packages\\sklearn\\preprocessing\\data.py\u001b[0m in \u001b[0;36minverse_transform\u001b[1;34m(self, X)\u001b[0m\n\u001b[0;32m    381\u001b[0m         \u001b[0mcheck_is_fitted\u001b[0m\u001b[1;33m(\u001b[0m\u001b[0mself\u001b[0m\u001b[1;33m,\u001b[0m \u001b[1;34m'scale_'\u001b[0m\u001b[1;33m)\u001b[0m\u001b[1;33m\u001b[0m\u001b[0m\n\u001b[0;32m    382\u001b[0m \u001b[1;33m\u001b[0m\u001b[0m\n\u001b[1;32m--> 383\u001b[1;33m         \u001b[0mX\u001b[0m \u001b[1;33m=\u001b[0m \u001b[0mcheck_array\u001b[0m\u001b[1;33m(\u001b[0m\u001b[0mX\u001b[0m\u001b[1;33m,\u001b[0m \u001b[0mcopy\u001b[0m\u001b[1;33m=\u001b[0m\u001b[0mself\u001b[0m\u001b[1;33m.\u001b[0m\u001b[0mcopy\u001b[0m\u001b[1;33m,\u001b[0m \u001b[0mdtype\u001b[0m\u001b[1;33m=\u001b[0m\u001b[0mFLOAT_DTYPES\u001b[0m\u001b[1;33m)\u001b[0m\u001b[1;33m\u001b[0m\u001b[0m\n\u001b[0m\u001b[0;32m    384\u001b[0m \u001b[1;33m\u001b[0m\u001b[0m\n\u001b[0;32m    385\u001b[0m         \u001b[0mX\u001b[0m \u001b[1;33m-=\u001b[0m \u001b[0mself\u001b[0m\u001b[1;33m.\u001b[0m\u001b[0mmin_\u001b[0m\u001b[1;33m\u001b[0m\u001b[0m\n",
      "\u001b[1;32m~\\Anaconda2\\envs\\tensorflow\\lib\\site-packages\\sklearn\\utils\\validation.py\u001b[0m in \u001b[0;36mcheck_array\u001b[1;34m(array, accept_sparse, dtype, order, copy, force_all_finite, ensure_2d, allow_nd, ensure_min_samples, ensure_min_features, warn_on_dtype, estimator)\u001b[0m\n\u001b[0;32m    449\u001b[0m         \u001b[1;32mif\u001b[0m \u001b[1;32mnot\u001b[0m \u001b[0mallow_nd\u001b[0m \u001b[1;32mand\u001b[0m \u001b[0marray\u001b[0m\u001b[1;33m.\u001b[0m\u001b[0mndim\u001b[0m \u001b[1;33m>=\u001b[0m \u001b[1;36m3\u001b[0m\u001b[1;33m:\u001b[0m\u001b[1;33m\u001b[0m\u001b[0m\n\u001b[0;32m    450\u001b[0m             raise ValueError(\"Found array with dim %d. %s expected <= 2.\"\n\u001b[1;32m--> 451\u001b[1;33m                              % (array.ndim, estimator_name))\n\u001b[0m\u001b[0;32m    452\u001b[0m         \u001b[1;32mif\u001b[0m \u001b[0mforce_all_finite\u001b[0m\u001b[1;33m:\u001b[0m\u001b[1;33m\u001b[0m\u001b[0m\n\u001b[0;32m    453\u001b[0m             \u001b[0m_assert_all_finite\u001b[0m\u001b[1;33m(\u001b[0m\u001b[0marray\u001b[0m\u001b[1;33m)\u001b[0m\u001b[1;33m\u001b[0m\u001b[0m\n",
      "\u001b[1;31mValueError\u001b[0m: Found array with dim 3. Estimator expected <= 2."
     ]
    }
   ],
   "source": [
    "# ezay a7adedlo eno y predict 5 days ????\n",
    "\n",
    "trainPredict = model.predict(trainX)\n",
    "testPredict = model.predict(testX)\n",
    "\n",
    "trainPredict = scaler.inverse_transform(trainPredict)\n",
    "trainY = scaler.inverse_transform([trainY])\n",
    "testPredict = scaler.inverse_transform(testPredict)\n",
    "testY = scaler.inverse_transform([testY])\n",
    "\n",
    "trainError = math.sqrt(mean_squared_error(trainY[0], trainPredict[:,0]))\n",
    "testError = math.sqrt(mean_squared_error(testY[0], testPredict[:,0]))\n",
    "\n",
    "print('Train Error: %.2f RMSE' % (trainError))\n",
    "print('Test Error: %.2f RMSE' % (testError))\n",
    "print(\"----------------------------------------\")\n",
    "print('Train Accuracy: %.2f RMSE' % (100-trainError))\n",
    "print('Test Accuracy: %.2f RMSE' % (100-testError))\n",
    "\n",
    "\n",
    "print(testPredict[-1::])   # figure out the syntax for predicting 5 days ?????\n",
    "\n",
    "'''\n",
    "# make predictions\n",
    "trainPredict = model.predict(trainX)\n",
    "testPredict = model.predict(testX)\n",
    "\n",
    "print(trainPredict)\n",
    "print (testPredict)\n",
    "\n",
    "# invert predictions\n",
    "trainPredict = scaler.inverse_transform(trainPredict)\n",
    "print(trainY.shape)\n",
    "trainY = scaler.inverse_transform(trainY)\n",
    "print(trainY.shape)\n",
    "testPredict = scaler.inverse_transform(testPredict)\n",
    "testY = scaler.inverse_transform(testY)\n",
    "\n",
    "# calculate root mean squared error\n",
    "trainScore = math.sqrt(mean_squared_error(trainY[0], trainPredict[:,0]))\n",
    "print('Train Score: %.2f RMSE' % (trainScore))\n",
    "testScore = math.sqrt(mean_squared_error(testY[0], testPredict[:,0]))\n",
    "print('Test Score: %.2f RMSE' % (testScore))\n",
    "\n",
    "'''\n",
    "\n",
    "\n",
    "\n",
    "\n",
    "'''\n",
    "# shift train predictions for plotting\n",
    "trainPredictPlot = np.empty_like(dataset)\n",
    "trainPredictPlot[:, :] = np.nan\n",
    "trainPredictPlot[look_back:len(trainPredict)+look_back, :] = trainPredict\n",
    "\n",
    "# shift test predictions for plotting\n",
    "testPredictPlot = np.empty_like(dataset)\n",
    "testPredictPlot[:, :] = np.nan\n",
    "testPredictPlot[len(trainPredict)+(look_back*2)+1:len(dataset)-1, :] = testPredict\n",
    "\n",
    "# plot baseline and predictions\n",
    "plt.plot(scaler.inverse_transform(dataset))\n",
    "plt.plot(trainPredictPlot)\n",
    "plt.plot(testPredictPlot)\n",
    "plt.show()\n",
    "\n",
    "'''"
   ]
  },
  {
   "cell_type": "code",
   "execution_count": null,
   "metadata": {},
   "outputs": [],
   "source": [
    "'''\n",
    "model = Sequential()\n",
    "\n",
    "model.add(LSTM(\n",
    "    input_dim=1,\n",
    "    output_dim=50,\n",
    "    return_sequences=True))\n",
    "model.add(Dropout(0.2))\n",
    "\n",
    "model.add(LSTM(\n",
    "    100,\n",
    "    return_sequences=False))\n",
    "model.add(Dropout(0.2))\n",
    "\n",
    "model.add(Dense(\n",
    "    output_dim=1))\n",
    "model.add(Activation('linear'))\n",
    "\n",
    "start = time.time()\n",
    "model.compile(loss='mse', optimizer='rmsprop')\n",
    "print ('compilation time : ', time.time() - start)\n",
    "'''"
   ]
  },
  {
   "cell_type": "code",
   "execution_count": null,
   "metadata": {},
   "outputs": [],
   "source": [
    "'''\n",
    "trainPredict = models.predict(X_train)\n",
    "testPredict = models.predict(X_test)\n",
    "\n",
    "trainPredict = sc.inverse_transform(trainPredict)\n",
    "trainY = sc.inverse_transform([y_train])\n",
    "testPredict = sc.inverse_transform(testPredict)\n",
    "testY = sc.inverse_transform([y_test])\n",
    "\n",
    "trainError = math.sqrt(mean_squared_error(trainY[0], trainPredict[:,0]))\n",
    "testError = math.sqrt(mean_squared_error(testY[0], testPredict[:,0]))\n",
    "\n",
    "print('Train Error: %.2f RMSE' % (trainError))\n",
    "print('Test Error: %.2f RMSE' % (testError))\n",
    "print(\"----------------------------------------\")\n",
    "print('Train Accuracy: %.2f RMSE' % (100-trainError))\n",
    "print('Test Accuracy: %.2f RMSE' % (100-testError))\n",
    "\n",
    "'''\n",
    "\n",
    "\n",
    "\n"
   ]
  }
 ],
 "metadata": {
  "kernelspec": {
   "display_name": "Python 3",
   "language": "python",
   "name": "python3"
  },
  "language_info": {
   "codemirror_mode": {
    "name": "ipython",
    "version": 3
   },
   "file_extension": ".py",
   "mimetype": "text/x-python",
   "name": "python",
   "nbconvert_exporter": "python",
   "pygments_lexer": "ipython3",
   "version": "3.5.5"
  }
 },
 "nbformat": 4,
 "nbformat_minor": 2
}
