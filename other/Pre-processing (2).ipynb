{
 "cells": [
  {
   "cell_type": "code",
   "execution_count": 1,
   "metadata": {
    "collapsed": true
   },
   "outputs": [],
   "source": [
    "import numpy as np\n",
    "import os\n",
    "from PIL import Image\n",
    "from skimage.io import imsave\n",
    "import scipy\n",
    "import shutil\n",
    "\n"
   ]
  },
  {
   "cell_type": "code",
   "execution_count": 2,
   "metadata": {},
   "outputs": [],
   "source": [
    "def adjust(rootdir,num_per_class):\n",
    "    newdir=rootdir\n",
    "    if (num_per_class!=0)  :\n",
    "        num=0;\n",
    "        for subdir, dirs, files in os.walk(rootdir):\n",
    "            if num>0:\n",
    "                print ('Class: ',os.path.basename(subdir))\n",
    "                classname=os.path.basename(subdir)\n",
    "                print ('number of images: ',len(os.listdir(subdir)))\n",
    "                original=len(os.listdir(subdir))\n",
    "                flag=1\n",
    "                c=0\n",
    "                os.mkdir(newdir+'\\\\temp'+classname)\n",
    "                while flag==1: \n",
    "                    for file in files:\n",
    "                        if(c<num_per_class):\n",
    "                            img=Image.open(subdir+'\\\\'+file)\n",
    "                            c+=1\n",
    "                            if (c<=original):\n",
    "                                imsave(newdir+'\\\\temp'+classname+'\\\\'+str(c)+file,img)\n",
    "                            elif (c<=original*2):\n",
    "                                img=np.flip(img,axis=1)\n",
    "                                imsave(newdir+'\\\\temp'+classname+'\\\\'+str(c)+file,img)\n",
    "                            elif (c<=original*3):\n",
    "                                img=np.flip(img,axis=0)\n",
    "                                imsave(newdir+'\\\\temp'+classname+'\\\\'+str(c)+file,img)\n",
    "                            elif (c<=original*4):\n",
    "                                img=img.rotate(1)\n",
    "                                imsave(newdir+'\\\\temp'+classname+'\\\\'+str(c)+file,img)\n",
    "                            elif (c<=original*5):\n",
    "                                img=img.rotate(-1)\n",
    "                                imsave(newdir+'\\\\temp'+classname+'\\\\'+str(c)+file,img)\n",
    "                            elif (c<=original*6):\n",
    "                                img=np.flip(img,axis=0)\n",
    "                                img=np.flip(img,axis=1)\n",
    "                                imsave(newdir+'\\\\temp'+classname+'\\\\'+str(c)+file,img)\n",
    "                            else:\n",
    "                                imsave(newdir+'\\\\temp'+classname+'\\\\'+str(c)+file,img)\n",
    "                            \n",
    "                        else:\n",
    "                            if(flag==1):\n",
    "                                flag=0\n",
    "                                shutil.rmtree(newdir+'\\\\'+classname, ignore_errors=True)\n",
    "                                os.rename(newdir+'\\\\temp'+classname , newdir+'\\\\'+classname)\n",
    "\n",
    "            else:\n",
    "                num+=1\n",
    "    "
   ]
  },
  {
   "cell_type": "code",
   "execution_count": 3,
   "metadata": {
    "scrolled": true
   },
   "outputs": [
    {
     "name": "stdout",
     "output_type": "stream",
     "text": [
      "Class:  class1\n",
      "number of images:  10\n",
      "Class:  class2\n",
      "number of images:  10\n",
      "Class:  class3\n",
      "number of images:  10\n",
      "Class:  class1\n",
      "number of images:  7\n",
      "Class:  class2\n",
      "number of images:  7\n",
      "Class:  class3\n",
      "number of images:  7\n",
      "Class:  class1\n",
      "number of images:  2\n",
      "Class:  class2\n",
      "number of images:  2\n",
      "Class:  class3\n",
      "number of images:  2\n"
     ]
    }
   ],
   "source": [
    "numTrain=12\n",
    "numTest=0\n",
    "numVal=3\n",
    "rootdir = 'C:\\\\Users\\\\LaptopMarket\\\\Downloads\\\\ML project\\\\datasettry'\n",
    "newdir ='C:\\\\Users\\\\LaptopMarket\\\\Downloads\\\\ML project\\\\dataTrain'\n",
    "testdir ='C:\\\\Users\\\\LaptopMarket\\\\Downloads\\\\ML project\\\\dataTest'\n",
    "valdir ='C:\\\\Users\\\\LaptopMarket\\\\Downloads\\\\ML project\\\\dataval'\n",
    "\n",
    "\n",
    "#spliting images\n",
    "num=0;\n",
    "for subdir, dirs, files in os.walk(rootdir):\n",
    "    if num>0:\n",
    "        print ('Class: ',os.path.basename(subdir))\n",
    "        classname=os.path.basename(subdir)\n",
    "        \n",
    "       \n",
    "        flag=1\n",
    "        c=0\n",
    "        os.mkdir(newdir+'\\\\'+classname)\n",
    "        os.mkdir(testdir+'\\\\'+classname)\n",
    "        os.mkdir(valdir+'\\\\'+classname)\n",
    "        \n",
    "        print ('number of images: ',len(os.listdir(subdir)))\n",
    "        original=len(os.listdir(subdir))\n",
    "        for file in files:\n",
    "                img=Image.open(subdir+'\\\\'+file)\n",
    "                c+=1\n",
    "                #print(c)\n",
    "                if(c<=original*0.1 ):\n",
    "                    imsave(testdir+'\\\\'+classname+'\\\\'+str(c)+file,img)                        \n",
    "                    os.remove(subdir+'\\\\'+file)\n",
    "                elif(c<=original*0.3 ):\n",
    "                    imsave(valdir+'\\\\'+classname+'\\\\'+str(c)+file,img)\n",
    "                    os.remove(subdir+'\\\\'+file)\n",
    "                else:\n",
    "                    imsave(newdir+'\\\\'+classname+'\\\\'+str(c)+file,img)      \n",
    "    else:\n",
    "        num+=1\n",
    "\n",
    "adjust(newdir,numTrain)\n",
    "adjust(testdir,numTest)\n",
    "adjust(valdir,numVal)\n",
    "\n",
    "       \n",
    "        \n",
    "\n"
   ]
  },
  {
   "cell_type": "code",
   "execution_count": null,
   "metadata": {
    "collapsed": true
   },
   "outputs": [],
   "source": []
  }
 ],
 "metadata": {
  "kernelspec": {
   "display_name": "Python 3",
   "language": "python",
   "name": "python3"
  },
  "language_info": {
   "codemirror_mode": {
    "name": "ipython",
    "version": 3
   },
   "file_extension": ".py",
   "mimetype": "text/x-python",
   "name": "python",
   "nbconvert_exporter": "python",
   "pygments_lexer": "ipython3",
   "version": "3.6.3"
  }
 },
 "nbformat": 4,
 "nbformat_minor": 2
}
